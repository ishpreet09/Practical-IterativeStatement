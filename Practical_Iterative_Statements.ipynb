{
  "nbformat": 4,
  "nbformat_minor": 0,
  "metadata": {
    "colab": {
      "name": "Practical- Iterative Statements.ipynb",
      "provenance": [],
      "authorship_tag": "ABX9TyOBgl9YOLA1jerQXQ0Tn7Nh",
      "include_colab_link": true
    },
    "kernelspec": {
      "name": "python3",
      "display_name": "Python 3"
    },
    "language_info": {
      "name": "python"
    }
  },
  "cells": [
    {
      "cell_type": "markdown",
      "metadata": {
        "id": "view-in-github",
        "colab_type": "text"
      },
      "source": [
        "<a href=\"https://colab.research.google.com/github/ishpreet09/Practical-IterativeStatement/blob/master/Practical_Iterative_Statements.ipynb\" target=\"_parent\"><img src=\"https://colab.research.google.com/assets/colab-badge.svg\" alt=\"Open In Colab\"/></a>"
      ]
    },
    {
      "cell_type": "markdown",
      "source": [
        "Program 1:\n",
        "\n",
        "To print a table of a number using \"for\" loop."
      ],
      "metadata": {
        "id": "xsTxsa5ek30c"
      }
    },
    {
      "cell_type": "code",
      "source": [
        "number=int(input(\"Enter a number to show it's multiplication table: \"))\n",
        "for count in range(0,10):\n",
        "  print(number, \"x\", count, \"=\", number *count)"
      ],
      "metadata": {
        "colab": {
          "base_uri": "https://localhost:8080/"
        },
        "id": "bSuRdQztlH6e",
        "outputId": "f827b0a0-e1a4-480c-9b4c-23add041c89a"
      },
      "execution_count": null,
      "outputs": [
        {
          "output_type": "stream",
          "name": "stdout",
          "text": [
            "Enter a number to show it's multiplication table: 9\n",
            "9 x 0 = 0\n",
            "9 x 1 = 9\n",
            "9 x 2 = 18\n",
            "9 x 3 = 27\n",
            "9 x 4 = 36\n",
            "9 x 5 = 45\n",
            "9 x 6 = 54\n",
            "9 x 7 = 63\n",
            "9 x 8 = 72\n",
            "9 x 9 = 81\n"
          ]
        }
      ]
    },
    {
      "cell_type": "markdown",
      "source": [
        "Program 2:\n",
        "\n",
        "To print the sum of all the even numbers in the range entered by the user."
      ],
      "metadata": {
        "id": "oTi1NTx6mpyU"
      }
    },
    {
      "cell_type": "code",
      "source": [
        "start=int(input(\"Enter the start of range:\"))\n",
        "end=int(input(\"Enter the end of range:\"))\n",
        "\n",
        "list_of_even_numbers=[]\n",
        "for num in range(start, end+1):\n",
        "  if num % 2 ==0:\n",
        "    list_of_even_numbers.append(num)\n",
        "\n",
        "print(\"Sum of the even numbers in the range is\", sum(list_of_even_numbers))"
      ],
      "metadata": {
        "colab": {
          "base_uri": "https://localhost:8080/"
        },
        "id": "5EZBFKCZm4v4",
        "outputId": "5a615d1f-403f-4360-8f8e-46bc4effee7d"
      },
      "execution_count": null,
      "outputs": [
        {
          "output_type": "stream",
          "name": "stdout",
          "text": [
            "Enter the start of range:2\n",
            "Enter the end of range:6\n",
            "Sum of the even numbers in the range is 12\n"
          ]
        }
      ]
    },
    {
      "cell_type": "markdown",
      "source": [
        "Program 3:\n",
        "\n",
        "To print the odd numbers between 1 to 30"
      ],
      "metadata": {
        "id": "lUGL3a9vtr-Q"
      }
    },
    {
      "cell_type": "code",
      "source": [
        "list_of_odd_numbers=[]\n",
        "for num in range(1,31):\n",
        "  if not num % 2 ==0:\n",
        "    list_of_odd_numbers.append(num)\n",
        "\n",
        "print(list_of_odd_numbers)"
      ],
      "metadata": {
        "colab": {
          "base_uri": "https://localhost:8080/"
        },
        "id": "3UdQQiy_uPgn",
        "outputId": "c46b5642-4344-4cd6-afc5-7012395d57a0"
      },
      "execution_count": null,
      "outputs": [
        {
          "output_type": "stream",
          "name": "stdout",
          "text": [
            "[1, 3, 5, 7, 9, 11, 13, 15, 17, 19, 21, 23, 25, 27, 29]\n"
          ]
        }
      ]
    },
    {
      "cell_type": "markdown",
      "source": [
        "Program 4:\n",
        "\n",
        "To print the elements of the given list using the 'for' loop:\n",
        "\n",
        "List=[56, 22, 67, 51, 64]"
      ],
      "metadata": {
        "id": "ip-Vxdm7vB4Y"
      }
    },
    {
      "cell_type": "code",
      "source": [
        "list=[56, 22, 67, 51, 64]\n",
        "\n",
        "for num in list:\n",
        "  print(num)"
      ],
      "metadata": {
        "colab": {
          "base_uri": "https://localhost:8080/"
        },
        "id": "hzX1E4msvg2r",
        "outputId": "e103d29b-45d7-4f29-c2f2-0c92880cfeca"
      },
      "execution_count": null,
      "outputs": [
        {
          "output_type": "stream",
          "name": "stdout",
          "text": [
            "56\n",
            "22\n",
            "67\n",
            "51\n",
            "64\n"
          ]
        }
      ]
    }
  ]
}